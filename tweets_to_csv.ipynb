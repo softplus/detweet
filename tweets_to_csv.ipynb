{
  "cells": [
    {
      "cell_type": "markdown",
      "metadata": {
        "colab_type": "text",
        "id": "view-in-github"
      },
      "source": [
        "<a href=\"https://colab.research.google.com/github/softplus/detweet/blob/main/tweets_to_csv.ipynb\" target=\"_parent\"><img src=\"https://colab.research.google.com/assets/colab-badge.svg\" alt=\"Open In Colab\"/></a>"
      ]
    },
    {
      "cell_type": "code",
      "execution_count": null,
      "metadata": {
        "id": "FLX3iIR7imZS"
      },
      "outputs": [],
      "source": [
        "# Copyright 2023-2024, John Mueller\n",
        "# MIT License, see LICENSE file\n",
        "# SPDX-FileCopyrightText: 2023-2024 John Mueller\n",
        "# SPDX-License-Identifier: MIT\n",
        "# https://github.com/softplus/detweet\n",
        "\n",
        "# Settings\n",
        "your_username = \"johnmu\"\n",
        "tweet_path = 'twitter-2023-12-24-8dfabcdf6c76db27c447cb87ed35e1ecd5a9bc83b89460f98d55dfb97ed4abba'\n"
      ]
    },
    {
      "cell_type": "code",
      "execution_count": null,
      "metadata": {
        "id": "0X_smObvZplu"
      },
      "outputs": [],
      "source": [
        "from google.colab import drive\n",
        "drive.mount('/content/drive')\n",
        "\n",
        "# set local paths -- in Google Drive\n",
        "tweet_file_raw   = '/content/drive/MyDrive/' + tweet_path + '/data/tweets.js' # normal archive file\n",
        "tweet_file_csv = '/content/drive/MyDrive/' + tweet_path + '/tweets.csv' # output file\n"
      ]
    },
    {
      "cell_type": "code",
      "execution_count": null,
      "metadata": {
        "id": "Qx0HUqxzaMME"
      },
      "outputs": [],
      "source": [
        "your_username = your_username or \"i\"\n",
        "import json, re, datetime\n",
        "\n",
        "# clean up tweets.js file\n",
        "line_count = 0\n",
        "tweet_count = 0\n",
        "file_out = open(tweet_file_csv, \"w\")\n",
        "fields = [\"created_at\", \"tweet_date\", \"id_str\", \"in_reply_to_status_id_str\", \"in_reply_to_screen_name\",\n",
        "          \"favorite_count\", \"retweet_count\", \"full_text\", \"just_text\", \"tweet_url\"]\n",
        "# url = https://twitter.com/i/status/1737186036147528084 or w/username\n",
        "file_out.write((\"\\t\".join(fields)) + \"\\n\")\n",
        "row = {}\n",
        "with open(tweet_file_raw, \"r\") as file_in:\n",
        "  for line in file_in:\n",
        "    if '\"tweet\" :' in line:\n",
        "      if row:\n",
        "        row[\"tweet_url\"] = \"https://twitter.com/%s/status/%s\" % (your_username, row[\"id_str\"])\n",
        "        row[\"just_text\"] = re.sub(r'@[^ ]+ ', '', row[\"full_text\"]).strip()\n",
        "        timestamp_dt = datetime.datetime.strptime(row[\"created_at\"], '%a %b %d %X %z %Y')\n",
        "        row[\"tweet_date\"] = timestamp_dt.strftime(\"%Y-%m-%dT%H:%M:%S\")\n",
        "\n",
        "        file_out.write(\"\\t\".join([(x in row and row[x] or \"\") for x in fields]))\n",
        "        file_out.write(\"\\n\")\n",
        "        row = {}\n",
        "        tweet_count += 1\n",
        "    for x in fields:\n",
        "      if '\"%s\" :' % x in line: # much hacky, parsing JSON by field, saves you from figuring out escaping\n",
        "        s = line.strip()\n",
        "        if (s[-1]==\",\"): s=s[:-1]\n",
        "        item = json.loads(\"{\" + s + \"}\")\n",
        "        row[x] = item[x]\n",
        "        while \"\\n\" in row[x]: row[x] = row[x].replace(\"\\n\", \" \") # remove linebreaks\n",
        "    line_count+= 1\n",
        "    if (line_count % 10000 ==0): print(\"line: %d\" % line_count)\n",
        "\n",
        "if row: # remainder\n",
        "  file_out.write(\"\\t\".join([(x in row and row[x] or \"\") for x in fields]))\n",
        "file_out.close()\n",
        "\n",
        "print(\"Done. Processed %d lines, %d tweets\" % (line_count, tweet_count))"
      ]
    }
  ],
  "metadata": {
    "colab": {
      "authorship_tag": "ABX9TyNVOpNsOuA169TyHYHMThhJ",
      "include_colab_link": true,
      "provenance": []
    },
    "kernelspec": {
      "display_name": "Python 3",
      "name": "python3"
    },
    "language_info": {
      "name": "python"
    }
  },
  "nbformat": 4,
  "nbformat_minor": 0
}
